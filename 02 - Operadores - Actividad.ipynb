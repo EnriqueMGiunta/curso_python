{
 "cells": [
  {
   "cell_type": "markdown",
   "metadata": {},
   "source": [
    "## Operadores - Actividad"
   ]
  },
  {
   "cell_type": "markdown",
   "metadata": {},
   "source": [
    "1) Pedir al usuario dos números y mostrar por pantalla la suma de ellos."
   ]
  },
  {
   "cell_type": "code",
   "execution_count": 5,
   "metadata": {},
   "outputs": [
    {
     "name": "stdout",
     "output_type": "stream",
     "text": [
      "Suma de dos números:\n",
      "54 + 34 = 88\n"
     ]
    }
   ],
   "source": [
    "print(\"Suma de dos números:\")\n",
    "a = int(input(\"Ingrese el primer valor a sumar\"))\n",
    "b = int(input(\"Ingrese el segundo valor a sumar\"))\n",
    "print(f\"{a} + {b} = {a+b}\")"
   ]
  },
  {
   "cell_type": "markdown",
   "metadata": {},
   "source": [
    "2) Calcular el perímetro y área de un rectángulo dada su base y su altura (el usuario debe introducir por teclado los dos valores)."
   ]
  },
  {
   "cell_type": "code",
   "execution_count": 6,
   "metadata": {},
   "outputs": [
    {
     "name": "stdout",
     "output_type": "stream",
     "text": [
      "Dado un triángulo de base=55 y altura=33:\n",
      "El perímetro del triángulo es 92.69041575982342 mm.\n",
      "El área del triángulo es 907.5 mm³.\n"
     ]
    }
   ],
   "source": [
    "import math\n",
    "base = int(input(\"Ingrese el valor (en mm) de la base de un triángulo:\"))\n",
    "altura = int(input(\"Ingrese el valor (en mm) de la altura de un triángulo:\"))\n",
    "hipotenusa = math.sqrt((base^2+altura^2))\n",
    "perimetro = base + altura + hipotenusa\n",
    "area = base * altura / 2\n",
    "print(f\"Dado un triángulo de base={base} y altura={altura}:\")\n",
    "print(f\"El perímetro del triángulo es {perimetro} mm.\")\n",
    "print(f\"El área del triángulo es {area} mm³.\")\n"
   ]
  },
  {
   "cell_type": "markdown",
   "metadata": {},
   "source": [
    "3) Calcular el resultado de elevar un número entero a otro número entero (por ejemplo, 5 elevado a 3 = 5^3 = 5*5*5)."
   ]
  },
  {
   "cell_type": "code",
   "execution_count": 7,
   "metadata": {},
   "outputs": [
    {
     "name": "stdout",
     "output_type": "stream",
     "text": [
      "Potencia de dos números:\n",
      "55 elevado a 2 es igual a 3025\n"
     ]
    }
   ],
   "source": [
    "print(\"Potencia de dos números:\")\n",
    "base = int(input(\"Ingrese el valor de la base:\"))\n",
    "exponente = int(input(\"Ingrese el valor del exponente:\"))\n",
    "print (f\"{base} elevado a {exponente} es igual a {base**exponente}\")"
   ]
  },
  {
   "cell_type": "markdown",
   "metadata": {},
   "source": [
    "4) Escribe un programa que convierta grados Celsius a grados Fahrenheit utilizando la fórmula: **F = (C * 9/5) + 32**"
   ]
  },
  {
   "cell_type": "code",
   "execution_count": 8,
   "metadata": {},
   "outputs": [
    {
     "name": "stdout",
     "output_type": "stream",
     "text": [
      "Conversión de grados Celsius a Farenheith\n",
      "34.0ºC = 93.2ºF\n"
     ]
    }
   ],
   "source": [
    "print (\"Conversión de grados Celsius a Farenheith\")\n",
    "celsius = float(input(\"Temperatura a convertir en ºC ?\"))\n",
    "print (f\"{celsius}ºC = {celsius * 9 / 5 + 32}ºF\")"
   ]
  },
  {
   "cell_type": "markdown",
   "metadata": {},
   "source": [
    "5) Pedir al usuario su edad y mostrar por pantalla si es mayor de edad o no. (Mayor de edad >= 18)"
   ]
  },
  {
   "cell_type": "code",
   "execution_count": 3,
   "metadata": {},
   "outputs": [
    {
     "name": "stdout",
     "output_type": "stream",
     "text": [
      "Usted es mayor de edad.\n"
     ]
    }
   ],
   "source": [
    "edad = int(input(\"Ingrese su edad por favor:\"))\n",
    "if edad >= 18:\n",
    "    print(\"Usted es mayor de edad.\")\n",
    "else:\n",
    "    print(\"Usted es menor de edad.\")"
   ]
  },
  {
   "cell_type": "markdown",
   "metadata": {},
   "source": [
    "6) Comprobar si el numero ingresado por el usuario es par o impar."
   ]
  },
  {
   "cell_type": "code",
   "execution_count": 9,
   "metadata": {},
   "outputs": [
    {
     "name": "stdout",
     "output_type": "stream",
     "text": [
      "El número ingresado es impar\n"
     ]
    }
   ],
   "source": [
    "numero = int(input(\"Ingrese un número:\"))\n",
    "paridad = numero%2\n",
    "if paridad == 0:\n",
    "    paridad = \"par\"\n",
    "else:\n",
    "    paridad = \"impar\"\n",
    "print(f\"El número ingresado es {paridad}\")"
   ]
  },
  {
   "cell_type": "markdown",
   "metadata": {},
   "source": [
    "7) Pedir al usuario que ingrese su dirección email y luego mostrar un mensaje indicando si la dirección es válida o no. Una dirección se considerará válida si contiene el símbolo \"@\"."
   ]
  },
  {
   "cell_type": "code",
   "execution_count": 10,
   "metadata": {},
   "outputs": [],
   "source": [
    "correo = input(\"Ingrese su dirección de email:\")\n",
    "#COMPLETAR"
   ]
  },
  {
   "cell_type": "markdown",
   "metadata": {},
   "source": [
    "8) Dado un número de dos cifras, diseñe un algoritmo que permita obtener el número invertido. Ejemplo, si se introduce 23 que muestre 32. (Recordar que las cadenas pueden tratarse como listas de caracteres)."
   ]
  },
  {
   "cell_type": "code",
   "execution_count": 12,
   "metadata": {},
   "outputs": [
    {
     "name": "stdout",
     "output_type": "stream",
     "text": [
      "El número 43 invertido queda como 34.\n"
     ]
    }
   ],
   "source": [
    "numero = int(input(\"Ingrese un número de dos dígitos para invertir sus dígitos:\"))\n",
    "if numero > 0 and numero < 99:\n",
    "    numero = str(numero)\n",
    "    print(f\"El número {numero} invertido queda como {numero[1]}{numero[0]}.\")\n",
    "else:\n",
    "    print(\"El número debe ser de dos dígitos.\")"
   ]
  },
  {
   "cell_type": "markdown",
   "metadata": {},
   "source": [
    "9) Crea un programa que pida al usuario dos números y muestre True si ambos son mayores que 10."
   ]
  },
  {
   "cell_type": "code",
   "execution_count": 13,
   "metadata": {},
   "outputs": [
    {
     "name": "stdout",
     "output_type": "stream",
     "text": [
      "True\n"
     ]
    }
   ],
   "source": [
    "a = int(input(\"Ingrese un número:\"))\n",
    "b = int(input(\"Ingrese otro número:\"))\n",
    "if (a > 10 and b > 10):\n",
    "    print(\"True\")\n",
    "else:\n",
    "    print(\"False\")"
   ]
  },
  {
   "cell_type": "markdown",
   "metadata": {},
   "source": [
    "10) Escribe un programa que verifique si un número ingresado por el usuario es divisible por 3 y por 5."
   ]
  },
  {
   "cell_type": "code",
   "execution_count": 14,
   "metadata": {},
   "outputs": [
    {
     "name": "stdout",
     "output_type": "stream",
     "text": [
      "6546 si es divisible por 3 y no es divisible por 5.\n"
     ]
    }
   ],
   "source": [
    "a = int(input(\"Ingrese un número:\"))\n",
    "cond_tres = a%3\n",
    "cond_cinco = a%5\n",
    "if cond_tres == 0:\n",
    "    cond_tres = \"si\"\n",
    "else:\n",
    "    cond_tres = \"no\"\n",
    "if cond_cinco == 0:\n",
    "    cond_cinco = \"si\"\n",
    "else:\n",
    "    cond_cinco = \"no\"\n",
    "\n",
    "print(f\"{a} {cond_tres} es divisible por 3 y {cond_cinco} es divisible por 5.\")"
   ]
  },
  {
   "cell_type": "markdown",
   "metadata": {},
   "source": [
    "11) Utilizando la información del punto 5, preguntar al usuario si posee carnet de conducir, luego verificar si puede conducir un automóvil."
   ]
  },
  {
   "cell_type": "code",
   "execution_count": 15,
   "metadata": {},
   "outputs": [
    {
     "name": "stdout",
     "output_type": "stream",
     "text": [
      "Usted está autorizado para conducir.\n"
     ]
    }
   ],
   "source": [
    "carnet = input(\"Usted posee carnet de conducir? (si/no)\")\n",
    "if edad >= 18 and carnet == \"si\":\n",
    "    print(\"Usted está autorizado para conducir.\")\n",
    "else:\n",
    "    print(\"Usted no puede conducir.\")"
   ]
  },
  {
   "cell_type": "markdown",
   "metadata": {},
   "source": [
    "12) Pide al usuario un número y verifica si es positivo y no es mayor que 100."
   ]
  },
  {
   "cell_type": "code",
   "execution_count": 21,
   "metadata": {},
   "outputs": [
    {
     "name": "stdout",
     "output_type": "stream",
     "text": [
      "El número 43 es positivo y no es mayor que 100\n"
     ]
    }
   ],
   "source": [
    "numero = int(input(\"Ingrese un número para analizar:\"))\n",
    "if numero > 0:\n",
    "    positivo = \"es\"\n",
    "else:\n",
    "    positivo = \"no es\"\n",
    "if numero <= 100:\n",
    "    mayor_que_100 = \"no es\"\n",
    "else:\n",
    "    mayor_que_100 = \"es\"\n",
    "print(f\"El número {numero} {positivo} positivo y {mayor_que_100} mayor que 100\")\n"
   ]
  },
  {
   "cell_type": "markdown",
   "metadata": {},
   "source": [
    "13) Crear un programa que valide si un número ingresado por el usuario es par y mayor que 20."
   ]
  },
  {
   "cell_type": "code",
   "execution_count": 24,
   "metadata": {},
   "outputs": [
    {
     "name": "stdout",
     "output_type": "stream",
     "text": [
      "El número ingresado, 12, es par y además no es mayor que 20.\n"
     ]
    }
   ],
   "source": [
    "numero = int(input(\"Ingrese un número:\"))\n",
    "paridad = numero%2\n",
    "if paridad == 0:\n",
    "    paridad = \"es\"\n",
    "else:\n",
    "    paridad = \"no es\"\n",
    "if numero > 20:\n",
    "    mayor_20 = \"es\"\n",
    "else:\n",
    "    mayor_20 = \"no es\"\n",
    "print(f\"El número ingresado, {numero}, {paridad} par y además {mayor_20} mayor que 20.\")"
   ]
  },
  {
   "cell_type": "markdown",
   "metadata": {},
   "source": [
    "14) Dada la variable **numero = 5**, realizar la operación necesaria para que número sea igual a 8. Luego imprimir en pantalla el nuevo valor de número y realizar una nueva operación para que el valor de número sea igual a 4 y mostrar en pantalla el nuevo valor."
   ]
  },
  {
   "cell_type": "code",
   "execution_count": 25,
   "metadata": {},
   "outputs": [
    {
     "name": "stdout",
     "output_type": "stream",
     "text": [
      "8\n",
      "4\n"
     ]
    }
   ],
   "source": [
    "numero = 5\n",
    "numero += 3\n",
    "print(numero)\n",
    "numero -= 4\n",
    "print(numero)"
   ]
  },
  {
   "cell_type": "markdown",
   "metadata": {},
   "source": [
    "15) Dadas las variables altura = \"10\" y base = 5, calcular el área de un triángulo y mostrar el resultado en pantalla. ¿Por qué el resultado es un error? ¿Cómo lo corregirías?"
   ]
  },
  {
   "cell_type": "code",
   "execution_count": 27,
   "metadata": {},
   "outputs": [
    {
     "name": "stdout",
     "output_type": "stream",
     "text": [
      "Dado un triángulo de base 5 y altura 10, su área es 25.0.\n"
     ]
    }
   ],
   "source": [
    "altura = 10\n",
    "base = 5\n",
    "area = base*altura/2\n",
    "print(f\"Dado un triángulo de base 5 y altura 10, su área es {area}.\")"
   ]
  },
  {
   "cell_type": "markdown",
   "metadata": {},
   "source": [
    "16) Crea un programa que calcule el promedio de tres calificaciones ingresadas por el usuario, y comprobar si el alumno aprobó o no (aprueba con nota mayor a 6)."
   ]
  },
  {
   "cell_type": "code",
   "execution_count": 36,
   "metadata": {},
   "outputs": [
    {
     "name": "stdout",
     "output_type": "stream",
     "text": [
      "Ingrese las calificaciones del alumno, de 0 a 10 para determinar si aprobó o no.\n",
      "El alumno aprobó con 6.666666666666667.\n"
     ]
    }
   ],
   "source": [
    "print(\"Ingrese las calificaciones del alumno, de 0 a 10 para determinar si aprobó o no.\")\n",
    "nota1 = int(input(\"Calificación 1?\"))\n",
    "nota2 = int(input(\"Calificación 2?\"))\n",
    "nota3 = int(input(\"Calificación 3?\"))\n",
    "promedio = (nota1 + nota2 + nota3)/3\n",
    "if promedio > 6:\n",
    "    estado = \"aprobó\"\n",
    "else:\n",
    "    estado = \"desaprobó\"\n",
    "print(f\"El alumno {estado} con {promedio}.\")\n"
   ]
  },
  {
   "cell_type": "markdown",
   "metadata": {},
   "source": [
    "17) Pide al usuario su edad y calcula cuántos días, horas y minutos ha vivido aproximadamente (asumiendo 365 días por año)."
   ]
  },
  {
   "cell_type": "code",
   "execution_count": 38,
   "metadata": {},
   "outputs": [
    {
     "name": "stdout",
     "output_type": "stream",
     "text": [
      "Con 46 años, usted ha vivido 16790 días, 402960 hs y 24177600 minutos.\n"
     ]
    }
   ],
   "source": [
    "edad = int(input(\"Ingreso su edad:\"))\n",
    "dias = edad*365\n",
    "horas = dias*24\n",
    "minutos = horas*60\n",
    "print(f\"Con {edad} años, usted ha vivido {dias} días, {horas} hs y {minutos} minutos.\")"
   ]
  },
  {
   "cell_type": "markdown",
   "metadata": {},
   "source": [
    "18) Crea un programa que verifique si un número ingresado por el usuario es múltiplo de 4 y de 6 al mismo tiempo."
   ]
  },
  {
   "cell_type": "code",
   "execution_count": 44,
   "metadata": {},
   "outputs": [
    {
     "name": "stdout",
     "output_type": "stream",
     "text": [
      "El número 48 es divisible por 4 y por 6 al mismo tiempo.\n"
     ]
    }
   ],
   "source": [
    "numero = int(input(\"Ingrese un número:\"))\n",
    "if numero%4 == 0 and numero%6 == 0:\n",
    "    print(f\"El número {numero} es divisible por 4 y por 6 al mismo tiempo.\")\n",
    "else:\n",
    "    print(f\"El número {numero} no es divisible por 4 y por 6 al mismo tiempo.\")\n"
   ]
  },
  {
   "cell_type": "markdown",
   "metadata": {},
   "source": [
    "19) "
   ]
  }
 ],
 "metadata": {
  "kernelspec": {
   "display_name": "Python 3",
   "language": "python",
   "name": "python3"
  },
  "language_info": {
   "codemirror_mode": {
    "name": "ipython",
    "version": 3
   },
   "file_extension": ".py",
   "mimetype": "text/x-python",
   "name": "python",
   "nbconvert_exporter": "python",
   "pygments_lexer": "ipython3",
   "version": "3.11.2"
  }
 },
 "nbformat": 4,
 "nbformat_minor": 2
}
