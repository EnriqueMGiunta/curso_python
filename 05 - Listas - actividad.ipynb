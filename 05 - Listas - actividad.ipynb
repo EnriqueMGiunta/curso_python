{
 "cells": [
  {
   "cell_type": "markdown",
   "metadata": {},
   "source": [
    "## Listas - Actividad"
   ]
  },
  {
   "cell_type": "markdown",
   "metadata": {},
   "source": [
    "1) Escribe una función que tome una lista de números como argumento y devuelva una nueva lista que contenga solo los números pares."
   ]
  },
  {
   "cell_type": "code",
   "execution_count": 9,
   "metadata": {},
   "outputs": [
    {
     "name": "stdout",
     "output_type": "stream",
     "text": [
      "Lista de pares es: [2, 4, 6, 8, 20, 22, 24, 26, 30, 32, 34, 100]\n",
      "De la lista \"[1, 2, 3, 4, 5, 6, 7, 8, 9, 20, 21, 22, 23, 24, 25, 26, 30, 31, 32, 33, 34, 100]\",\n",
      "los números pares son: [2, 4, 6, 8, 20, 22, 24, 26, 30, 32, 34, 100]\n"
     ]
    }
   ],
   "source": [
    "def ejercicio_1(numeros):\n",
    "    lista_pares = [ x for x in numeros if x % 2 == 0 ]\n",
    "    print(\"Lista de pares es:\", lista_pares)\n",
    "    return lista_pares\n",
    "\n",
    "# Test propio\n",
    "lista_num = [ 1, 2, 3, 4, 5, 6, 7, 8, 9, 20, 21, 22,23, 24, 25, 26, 30, 31, 32, 33, 34, 100 ]\n",
    "print(f\"De la lista \\\"{lista_num}\\\",\\nlos números pares son: {ejercicio_1(lista_num)}\")\n"
   ]
  },
  {
   "cell_type": "code",
   "execution_count": 10,
   "metadata": {},
   "outputs": [
    {
     "name": "stdout",
     "output_type": "stream",
     "text": [
      "Lista de pares es: [2, 4, 6, 8]\n",
      "Lista de pares es: [44, 56, 72, 22]\n",
      "\u001b[92m✓ Ejercicio correcto!\n"
     ]
    }
   ],
   "source": [
    "# TEST EJERCICIO 1\n",
    "\n",
    "try:\n",
    "    assert ejercicio_1([1, 2, 3, 4, 5, 6, 7, 8, 9]) == [2, 4, 6, 8]\n",
    "    assert ejercicio_1([11, 23, 44, 56, 72, 51, 22, 15]) == [44, 56, 72, 22]\n",
    "    print('\\033[92m' + '✓ Ejercicio correcto!')\n",
    "except AssertionError as e:\n",
    "    print('\\033[91m' + \"x Ejercicio incorrecto\")"
   ]
  },
  {
   "cell_type": "markdown",
   "metadata": {},
   "source": [
    "2) Escribe una función que tome una lista y elimine los elementos duplicados, devolviendo una nueva lista sin duplicados. El orden de los elementos debe mantenerse."
   ]
  },
  {
   "cell_type": "code",
   "execution_count": 12,
   "metadata": {},
   "outputs": [
    {
     "name": "stdout",
     "output_type": "stream",
     "text": [
      "De la lista \"['Ag', 'Mg', 'Ag', 'Au', 'Mn', 'Cu', 'Mn', 'O', 'K', 'Ag', 'Pb', 'Z', 'Mg', 'Zn', 'U', 'P', 'K', 'Au', 100, 20, 3, 100]\",\n",
      "dejamos sólo los que no están repetidos, quedando:\n",
      "['Ag', 'Mg', 'Au', 'Mn', 'Cu', 'O', 'K', 'Pb', 'Z', 'Zn', 'U', 'P', 100, 20, 3]\n"
     ]
    }
   ],
   "source": [
    "def ejercicio_2(lista):\n",
    "    sin_duplicados = []\n",
    "    for elemento in lista:\n",
    "        if elemento not in sin_duplicados:\n",
    "            sin_duplicados.append(elemento)\n",
    "    return sin_duplicados\n",
    "\n",
    "# Test propio\n",
    "elementos = [ \"Ag\", \"Mg\", \"Ag\", \"Au\", \"Mn\", \"Cu\", \"Mn\", \"O\", \"K\", \"Ag\", \"Pb\", \"Z\", \"Mg\", \"Zn\", \"U\", \"P\", \"K\", \"Au\", 100, 20, 3, 100 ]\n",
    "print(f\"De la lista \\\"{elementos}\\\",\\ndejamos sólo los que no están repetidos, quedando:\\n{ejercicio_2(elementos)}\")"
   ]
  },
  {
   "cell_type": "code",
   "execution_count": 13,
   "metadata": {},
   "outputs": [
    {
     "name": "stdout",
     "output_type": "stream",
     "text": [
      "\u001b[92m✓ Ejercicio correcto!\n"
     ]
    }
   ],
   "source": [
    "# TEST EJERCICIO 2\n",
    "\n",
    "try:\n",
    "    assert ejercicio_2([1, 2, 2, 3, 4, 4, 5, 5, 5, 2]) == [1, 2, 3, 4, 5]\n",
    "    assert ejercicio_2([\"Hola\", \"Mundo\", \"Hola\", \"Ejercicio\", \"Dos\", \"Numero\", \"Dos\", \"Dos\"]) == [\"Hola\", \"Mundo\", \"Ejercicio\", \"Dos\", \"Numero\"]\n",
    "    print('\\033[92m' + '✓ Ejercicio correcto!')\n",
    "except AssertionError as e:\n",
    "    print('\\033[91m' + \"x Ejercicio incorrecto\")"
   ]
  },
  {
   "cell_type": "markdown",
   "metadata": {},
   "source": [
    "3) Escribe una función que tome una lista y un elemento como argumentos, y elimine todas las ocurrencias de ese elemento en la lista. Devuelve la lista modificada."
   ]
  },
  {
   "cell_type": "code",
   "execution_count": 14,
   "metadata": {},
   "outputs": [
    {
     "name": "stdout",
     "output_type": "stream",
     "text": [
      "[1, 4, 9, 16, 25, 36, 49, 64, 81, 100]\n",
      "[1, 9, 16, 25, 36, 49, 64, 81, 100]\n"
     ]
    }
   ],
   "source": [
    "def ejercicio_3(lista, elemento):\n",
    "    while elemento in lista:\n",
    "        lista.remove(elemento)\n",
    "    return lista\n",
    "\n",
    "# Test propio\n",
    "lista_cuadrados = [ x ** 2 for x in range(1, 11)]\n",
    "print(lista_cuadrados)\n",
    "print(ejercicio_3(lista_cuadrados, 4))"
   ]
  },
  {
   "cell_type": "code",
   "execution_count": 15,
   "metadata": {},
   "outputs": [
    {
     "name": "stdout",
     "output_type": "stream",
     "text": [
      "\u001b[92m✓ Ejercicio correcto!\n"
     ]
    }
   ],
   "source": [
    "# TEST EJERCICIO 3\n",
    "\n",
    "try:\n",
    "    assert ejercicio_3([1, 2, 3, 4, 2, 5, 2], 2) == [1, 3, 4, 5]\n",
    "    assert ejercicio_3([\"Alfa\", \"Beta\", \"Gamma\", \"Epsilon\", \"Alfa\", \"Alfa\"], \"Alfa\") == [\"Beta\", \"Gamma\", \"Epsilon\"]\n",
    "    print('\\033[92m' + '✓ Ejercicio correcto!')\n",
    "except AssertionError as e:\n",
    "    print('\\033[91m' + \"x Ejercicio incorrecto\")"
   ]
  },
  {
   "cell_type": "markdown",
   "metadata": {},
   "source": [
    "4) Escribe una función que tome una lista de números como argumento y devuelva una nueva lista que contenga solo los números que son mayores que 0 (cero), ordenados de menor a mayor."
   ]
  },
  {
   "cell_type": "code",
   "execution_count": 20,
   "metadata": {},
   "outputs": [
    {
     "name": "stdout",
     "output_type": "stream",
     "text": [
      "De la lista:\n",
      "[-8, -1, -2, -3, 5, 1, 0, -1, 8, 2, 4, 3, 6]\n",
      "los mayores a cero ordenados son:\n",
      "[1, 2, 3, 4, 5, 6, 8]\n"
     ]
    }
   ],
   "source": [
    "def ejercicio_4(numeros):\n",
    "    mayores_a_cero = []\n",
    "    for x in numeros:\n",
    "        if x > 0:\n",
    "            mayores_a_cero.append(x)\n",
    "    mayores_a_cero.sort()\n",
    "    return mayores_a_cero\n",
    "\n",
    "# Test propio\n",
    "lista = [-8, -1, -2, -3, 5, 1, 0, -1, 8, 2, 4, 3, 6]\n",
    "print(f\"De la lista:\\n{lista}\\nlos mayores a cero ordenados son:\\n{ejercicio_4(lista)}\")"
   ]
  },
  {
   "cell_type": "code",
   "execution_count": 21,
   "metadata": {},
   "outputs": [
    {
     "name": "stdout",
     "output_type": "stream",
     "text": [
      "\u001b[92m✓ Ejercicio correcto!\n"
     ]
    }
   ],
   "source": [
    "# TEST EJERCICIO 4\n",
    "\n",
    "try:\n",
    "    assert ejercicio_4([-3, 5, 1, 0, -1, 8, 2, 4, 3, 6]) == [1, 2, 3, 4, 5, 6, 8]\n",
    "    print('\\033[92m' + '✓ Ejercicio correcto!')\n",
    "except AssertionError as e:\n",
    "    print('\\033[91m' + \"x Ejercicio incorrecto\")"
   ]
  },
  {
   "cell_type": "markdown",
   "metadata": {},
   "source": [
    "5) Crear una función que cuente la cantidad de veces que se repite cada elemento de una lista. Devolver un diccionario con los elementos y sus repeticiones.\n",
    "\n",
    "> Consejo: Usar el método `count` de las listas y listas por comprensión."
   ]
  },
  {
   "cell_type": "code",
   "execution_count": 36,
   "metadata": {},
   "outputs": [
    {
     "name": "stdout",
     "output_type": "stream",
     "text": [
      "Lista = ['Hola', 'Hola', 'Mundo', 'Hola', 'Palabra', 'Curso', 'Curso']\n",
      "Diccionario = {'Hola': 3, 'Mundo': 1, 'Palabra': 1, 'Curso': 2}\n"
     ]
    }
   ],
   "source": [
    "def ejercicio_5(lista):\n",
    "    diccionario = {}\n",
    "    for elemento in lista:\n",
    "        if elemento not in diccionario:\n",
    "            cantidad = lista.count(elemento)\n",
    "            diccionario[elemento] = cantidad\n",
    "    return diccionario\n",
    "\n",
    "# Test propio\n",
    "listado = [\"Hola\", \"Hola\", \"Mundo\", \"Hola\", \"Palabra\", \"Curso\", \"Curso\"]\n",
    "print(f\"Lista = {listado}\\nDiccionario = {ejercicio_5(listado)}\")"
   ]
  },
  {
   "cell_type": "code",
   "execution_count": 37,
   "metadata": {},
   "outputs": [
    {
     "name": "stdout",
     "output_type": "stream",
     "text": [
      "\u001b[92m✓ Ejercicio correcto!\n"
     ]
    }
   ],
   "source": [
    "# TEST EJERCICIO 5\n",
    "\n",
    "try:\n",
    "    assert ejercicio_5([\"Hola\", \"Hola\", \"Mundo\", \"Hola\", \"Palabra\", \"Curso\", \"Curso\"]) == {\"Hola\": 3, \"Mundo\": 1, \"Palabra\": 1, \"Curso\": 2}\n",
    "    print('\\033[92m' + '✓ Ejercicio correcto!')\n",
    "except AssertionError as e:\n",
    "    print('\\033[91m' + \"x Ejercicio incorrecto\")\n"
   ]
  },
  {
   "cell_type": "markdown",
   "metadata": {},
   "source": [
    "6) Escribe una función que tome un número entero positivo n como argumento y devuelva una lista de los primeros n números primos.\n",
    "\n",
    "> Nota: Un número primo es un número natural mayor que 1 que es divisible únicamente por 1 y por sí mismo."
   ]
  },
  {
   "cell_type": "code",
   "execution_count": 12,
   "metadata": {},
   "outputs": [
    {
     "name": "stdout",
     "output_type": "stream",
     "text": [
      "Los números naturales que hay menores a 100 son:\n",
      "[2, 3, 5, 7, 11, 13, 17, 19, 23, 29, 31, 37, 41, 43, 47, 53, 59, 61, 67, 71, 73, 79, 83, 89, 97]\n"
     ]
    }
   ],
   "source": [
    "def ejercicio_6(n):\n",
    "    lista_primos = []\n",
    "    for numero in range(2, n+1):\n",
    "        primo = 1\n",
    "        num = 2\n",
    "        while primo != 0 and num < numero:\n",
    "            primo = numero%num\n",
    "            num +=1\n",
    "        if primo != 0:\n",
    "            lista_primos.append(numero)\n",
    "    return lista_primos\n",
    "\n",
    "# Test propio\n",
    "num = int(input(\"Ingrese un número natural: \"))\n",
    "print(f\"Los números naturales que hay menores a {num} son:\\n{ejercicio_6(num)}\")"
   ]
  },
  {
   "cell_type": "code",
   "execution_count": 13,
   "metadata": {},
   "outputs": [
    {
     "name": "stdout",
     "output_type": "stream",
     "text": [
      "\u001b[92m✓ Ejercicio correcto!\n"
     ]
    }
   ],
   "source": [
    "# TEST EJERCICIO 6\n",
    "\n",
    "try:\n",
    "    assert ejercicio_6(20) == [2, 3, 5, 7, 11, 13, 17, 19]\n",
    "    assert ejercicio_6(10) == [2, 3, 5, 7]\n",
    "    print('\\033[92m' + '✓ Ejercicio correcto!')\n",
    "except AssertionError as e:\n",
    "    print('\\033[91m' + \"x Ejercicio incorrecto\")"
   ]
  },
  {
   "cell_type": "markdown",
   "metadata": {},
   "source": [
    "7) Escribe una función que tome una lista de números como argumento y devuelva `True` si la lista está ordenada en orden descendente y `False` en caso contrario."
   ]
  },
  {
   "cell_type": "code",
   "execution_count": 24,
   "metadata": {},
   "outputs": [
    {
     "name": "stdout",
     "output_type": "stream",
     "text": [
      "Dada la lista: [11, 9, 8, 5, 4, 1]:\n",
      "La lista está ordenada en forma descendente\n"
     ]
    }
   ],
   "source": [
    "def ejercicio_7(numeros):\n",
    "    salida = True\n",
    "    for indice in range(1, len(numeros)):\n",
    "        if numeros[indice - 1] < numeros[indice]:\n",
    "            salida = False\n",
    "            break\n",
    "    return salida\n",
    "\n",
    "#listado = [1, 2, 3, 4, 5, 6, 7, 8, 9]\n",
    "#listado = [11, 9, 111, 5, 4, 1]\n",
    "listado = [11, 9, 8, 5, 4, 1]\n",
    "print(f\"Dada la lista: {listado}:\")\n",
    "if ejercicio_7(listado):\n",
    "    print(\"La lista está ordenada en forma descendente\")\n",
    "else:\n",
    "    print(\"La lista no está ordenada en forma descendente\")\n"
   ]
  },
  {
   "cell_type": "code",
   "execution_count": 25,
   "metadata": {},
   "outputs": [
    {
     "name": "stdout",
     "output_type": "stream",
     "text": [
      "\u001b[92m✓ Ejercicio correcto!\n"
     ]
    }
   ],
   "source": [
    "# TEST EJERCICIO 7\n",
    "\n",
    "try:\n",
    "    assert ejercicio_7([4, 7, 11, 3, 1, 0, 8, 14, 25]) == False\n",
    "    assert ejercicio_7([1, 2, 3, 4, 5, 6, 7, 8, 9]) == False\n",
    "    assert ejercicio_7([11, 9, 6, 3, 1]) == True\n",
    "    print('\\033[92m' + '✓ Ejercicio correcto!')\n",
    "except AssertionError as e:\n",
    "    print('\\033[91m' + \"x Ejercicio incorrecto\")"
   ]
  }
 ],
 "metadata": {
  "kernelspec": {
   "display_name": "Python 3",
   "language": "python",
   "name": "python3"
  },
  "language_info": {
   "codemirror_mode": {
    "name": "ipython",
    "version": 3
   },
   "file_extension": ".py",
   "mimetype": "text/x-python",
   "name": "python",
   "nbconvert_exporter": "python",
   "pygments_lexer": "ipython3",
   "version": "3.11.2"
  }
 },
 "nbformat": 4,
 "nbformat_minor": 2
}
